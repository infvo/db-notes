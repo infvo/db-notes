{
 "cells": [
  {
   "cell_type": "markdown",
   "id": "0b6993b0-ccd4-4426-bab3-de7b0b9a8680",
   "metadata": {},
   "source": [
    "# Bibliotheek-uitwerkingen (1)"
   ]
  },
  {
   "cell_type": "code",
   "execution_count": 4,
   "id": "c91f7200-dbfc-4a7c-98ea-1612b422f11e",
   "metadata": {},
   "outputs": [],
   "source": [
    "%LOAD data/bibliotheek.db"
   ]
  },
  {
   "cell_type": "markdown",
   "id": "56583861-2419-46e3-893c-90b2ef4e42b3",
   "metadata": {},
   "source": [
    ":::{solution-start} recente-schrijvers\n",
    ":::\n",
    "\n",
    "Welke schrijvers zijn geboren na 1960? Geef de voornaam, tussenvoegsel, achternaam, en geboortejaar."
   ]
  },
  {
   "cell_type": "code",
   "execution_count": 5,
   "id": "420fd96e-135f-4855-8c05-8ae4f255db63",
   "metadata": {},
   "outputs": [
    {
     "data": {
      "text/html": [
       "<table>\n",
       "<tr>\n",
       "<th>VOORNAAM</th>\n",
       "<th>TUSSENVOEGSEL</th>\n",
       "<th>ACHTERNAAM</th>\n",
       "<th>GEB_JAAR</th>\n",
       "</tr>\n",
       "<tr>\n",
       "<td>Manon</td>\n",
       "<td></td>\n",
       "<td>Uphoff</td>\n",
       "<td>1962</td>\n",
       "</tr>\n",
       "<tr>\n",
       "<td>Karel</td>\n",
       "<td></td>\n",
       "<td>Glastra van Loon</td>\n",
       "<td>1962</td>\n",
       "</tr>\n",
       "<tr>\n",
       "<td>Joost</td>\n",
       "<td></td>\n",
       "<td>Zwagerman</td>\n",
       "<td>1963</td>\n",
       "</tr>\n",
       "<tr>\n",
       "<td>Ronald</td>\n",
       "<td></td>\n",
       "<td>Giphart</td>\n",
       "<td>1965</td>\n",
       "</tr>\n",
       "<tr>\n",
       "<td>Hafid</td>\n",
       "<td></td>\n",
       "<td>Bouazza</td>\n",
       "<td>1970</td>\n",
       "</tr>\n",
       "<tr>\n",
       "<td>Arnon</td>\n",
       "<td></td>\n",
       "<td>Grunberg</td>\n",
       "<td>1971</td>\n",
       "</tr>\n",
       "<tr>\n",
       "<td>Abdelkader</td>\n",
       "<td></td>\n",
       "<td>Benali</td>\n",
       "<td>1975</td>\n",
       "</tr>\n",
       "</table>"
      ],
      "text/plain": [
       "+------------+---------------+------------------+----------+\n",
       "| VOORNAAM   | TUSSENVOEGSEL | ACHTERNAAM       | GEB_JAAR |\n",
       "+------------+---------------+------------------+----------+\n",
       "| Manon      |               | Uphoff           | 1962     |\n",
       "+------------+---------------+------------------+----------+\n",
       "| Karel      |               | Glastra van Loon | 1962     |\n",
       "+------------+---------------+------------------+----------+\n",
       "| Joost      |               | Zwagerman        | 1963     |\n",
       "+------------+---------------+------------------+----------+\n",
       "| Ronald     |               | Giphart          | 1965     |\n",
       "+------------+---------------+------------------+----------+\n",
       "| Hafid      |               | Bouazza          | 1970     |\n",
       "+------------+---------------+------------------+----------+\n",
       "| Arnon      |               | Grunberg         | 1971     |\n",
       "+------------+---------------+------------------+----------+\n",
       "| Abdelkader |               | Benali           | 1975     |\n",
       "+------------+---------------+------------------+----------+"
      ]
     },
     "execution_count": 5,
     "metadata": {},
     "output_type": "execute_result"
    }
   ],
   "source": [
    "SELECT voornaam, tussenvoegsel, achternaam, geb_jaar\n",
    "FROM auteurs\n",
    "WHERE geb_jaar > \"1960\"\n",
    "ORDER BY geb_jaar;"
   ]
  },
  {
   "cell_type": "markdown",
   "id": "0eba32a9-b1b1-4f24-8ccb-1ce2faca35c0",
   "metadata": {},
   "source": [
    "Variatie: combineer de voornaam, achternaam en tussenvoegsel tot één naam"
   ]
  },
  {
   "cell_type": "code",
   "execution_count": 6,
   "id": "d2b2bce3-1359-4627-abcd-ada12d0f2a5d",
   "metadata": {},
   "outputs": [
    {
     "data": {
      "text/html": [
       "<table>\n",
       "<tr>\n",
       "<th>NAAM</th>\n",
       "<th>GEB_JAAR</th>\n",
       "</tr>\n",
       "<tr>\n",
       "<td>Manon Uphoff</td>\n",
       "<td>1962</td>\n",
       "</tr>\n",
       "<tr>\n",
       "<td>Karel Glastra van Loon</td>\n",
       "<td>1962</td>\n",
       "</tr>\n",
       "<tr>\n",
       "<td>Joost Zwagerman</td>\n",
       "<td>1963</td>\n",
       "</tr>\n",
       "<tr>\n",
       "<td>Ronald Giphart</td>\n",
       "<td>1965</td>\n",
       "</tr>\n",
       "<tr>\n",
       "<td>Hafid Bouazza</td>\n",
       "<td>1970</td>\n",
       "</tr>\n",
       "<tr>\n",
       "<td>Arnon Grunberg</td>\n",
       "<td>1971</td>\n",
       "</tr>\n",
       "<tr>\n",
       "<td>Abdelkader Benali</td>\n",
       "<td>1975</td>\n",
       "</tr>\n",
       "</table>"
      ],
      "text/plain": [
       "+------------------------+----------+\n",
       "| NAAM                   | GEB_JAAR |\n",
       "+------------------------+----------+\n",
       "| Manon Uphoff           | 1962     |\n",
       "+------------------------+----------+\n",
       "| Karel Glastra van Loon | 1962     |\n",
       "+------------------------+----------+\n",
       "| Joost Zwagerman        | 1963     |\n",
       "+------------------------+----------+\n",
       "| Ronald Giphart         | 1965     |\n",
       "+------------------------+----------+\n",
       "| Hafid Bouazza          | 1970     |\n",
       "+------------------------+----------+\n",
       "| Arnon Grunberg         | 1971     |\n",
       "+------------------------+----------+\n",
       "| Abdelkader Benali      | 1975     |\n",
       "+------------------------+----------+"
      ]
     },
     "execution_count": 6,
     "metadata": {},
     "output_type": "execute_result"
    }
   ],
   "source": [
    "SELECT IFNULL(voornaam || ' ', '') || IFNULL(tussenvoegsel || ' ', '') || achternaam as NAAM, geb_jaar\n",
    "FROM auteurs\n",
    "WHERE geb_jaar > \"1960\"\n",
    "ORDER BY geb_jaar;"
   ]
  },
  {
   "cell_type": "markdown",
   "id": "51728734-5b12-432b-bb27-c20149fdf6c1",
   "metadata": {},
   "source": [
    ":::{solution-end}\n",
    ":::"
   ]
  },
  {
   "cell_type": "markdown",
   "id": "5590a4ad-900f-45c9-a223-ebace791bc3c",
   "metadata": {},
   "source": [
    ":::{solution-start} niet-nederlandse-boeken\n",
    ":::\n",
    "\n",
    "Welke boeken vallen niet in de rubriek \"nederlands\"? (Geef alleen de eerste 10 boeken: titel en rubriek.)\n",
    "\n",
    "* Variatie: geef titel, schrijver em rubriek"
   ]
  },
  {
   "cell_type": "code",
   "execution_count": 14,
   "id": "531868be-2602-4fe4-aa31-fa1d38dd39af",
   "metadata": {},
   "outputs": [
    {
     "data": {
      "text/html": [
       "<table>\n",
       "<tr>\n",
       "<th>TITEL</th>\n",
       "<th>RUBRIEK</th>\n",
       "</tr>\n",
       "<tr>\n",
       "<td>1984</td>\n",
       "<td>engels</td>\n",
       "</tr>\n",
       "<tr>\n",
       "<td>A Bend in the River</td>\n",
       "<td>engels</td>\n",
       "</tr>\n",
       "<tr>\n",
       "<td>A Catcher in the Rye</td>\n",
       "<td>engels</td>\n",
       "</tr>\n",
       "<tr>\n",
       "<td>A Christmas Carol</td>\n",
       "<td>engels</td>\n",
       "</tr>\n",
       "<tr>\n",
       "<td>A Prayer for Owen Meany</td>\n",
       "<td>engels</td>\n",
       "</tr>\n",
       "<tr>\n",
       "<td>A Son of the Circus</td>\n",
       "<td>engels</td>\n",
       "</tr>\n",
       "<tr>\n",
       "<td>A tale of two cities</td>\n",
       "<td>engels</td>\n",
       "</tr>\n",
       "<tr>\n",
       "<td>Animal Farm</td>\n",
       "<td>engels</td>\n",
       "</tr>\n",
       "<tr>\n",
       "<td>Computernetwerken (2e ed.)</td>\n",
       "<td>informatica</td>\n",
       "</tr>\n",
       "<tr>\n",
       "<td>Congo Journey</td>\n",
       "<td>engels</td>\n",
       "</tr>\n",
       "</table>"
      ],
      "text/plain": [
       "+----------------------------+-------------+\n",
       "| TITEL                      | RUBRIEK     |\n",
       "+----------------------------+-------------+\n",
       "| 1984                       | engels      |\n",
       "+----------------------------+-------------+\n",
       "| A Bend in the River        | engels      |\n",
       "+----------------------------+-------------+\n",
       "| A Catcher in the Rye       | engels      |\n",
       "+----------------------------+-------------+\n",
       "| A Christmas Carol          | engels      |\n",
       "+----------------------------+-------------+\n",
       "| A Prayer for Owen Meany    | engels      |\n",
       "+----------------------------+-------------+\n",
       "| A Son of the Circus        | engels      |\n",
       "+----------------------------+-------------+\n",
       "| A tale of two cities       | engels      |\n",
       "+----------------------------+-------------+\n",
       "| Animal Farm                | engels      |\n",
       "+----------------------------+-------------+\n",
       "| Computernetwerken (2e ed.) | informatica |\n",
       "+----------------------------+-------------+\n",
       "| Congo Journey              | engels      |\n",
       "+----------------------------+-------------+"
      ]
     },
     "execution_count": 14,
     "metadata": {},
     "output_type": "execute_result"
    }
   ],
   "source": [
    "SELECT titel, rubriek\n",
    "FROM boeken\n",
    "WHERE rubriek <> \"nederlands\"\n",
    "ORDER BY titel\n",
    "LIMIT 10;"
   ]
  },
  {
   "cell_type": "markdown",
   "id": "b63e3a0c-a452-42a2-95b2-abed63c368bd",
   "metadata": {},
   "source": [
    "* Variatie: geef titel, auteur (als 1 string, met kolomnaam: AUTEUR) em rubriek"
   ]
  },
  {
   "cell_type": "code",
   "execution_count": 13,
   "id": "57d364d9-f1dd-4295-83a6-494ae3f2b0cf",
   "metadata": {},
   "outputs": [
    {
     "data": {
      "text/html": [
       "<table>\n",
       "<tr>\n",
       "<th>TITEL</th>\n",
       "<th>AUTEUR</th>\n",
       "<th>RUBRIEK</th>\n",
       "</tr>\n",
       "<tr>\n",
       "<td>1984</td>\n",
       "<td>George Orwell</td>\n",
       "<td>engels</td>\n",
       "</tr>\n",
       "<tr>\n",
       "<td>A Bend in the River</td>\n",
       "<td>Vidiadhar Surajprasad Naipaul</td>\n",
       "<td>engels</td>\n",
       "</tr>\n",
       "<tr>\n",
       "<td>A Catcher in the Rye</td>\n",
       "<td>Salinger</td>\n",
       "<td>engels</td>\n",
       "</tr>\n",
       "<tr>\n",
       "<td>A Christmas Carol</td>\n",
       "<td>Charles Dickens</td>\n",
       "<td>engels</td>\n",
       "</tr>\n",
       "<tr>\n",
       "<td>A Prayer for Owen Meany</td>\n",
       "<td>John Irving</td>\n",
       "<td>engels</td>\n",
       "</tr>\n",
       "<tr>\n",
       "<td>A Son of the Circus</td>\n",
       "<td>John Irving</td>\n",
       "<td>engels</td>\n",
       "</tr>\n",
       "<tr>\n",
       "<td>A tale of two cities</td>\n",
       "<td>Charles Dickens</td>\n",
       "<td>engels</td>\n",
       "</tr>\n",
       "<tr>\n",
       "<td>Animal Farm</td>\n",
       "<td>George Orwell</td>\n",
       "<td>engels</td>\n",
       "</tr>\n",
       "<tr>\n",
       "<td>Computernetwerken (2e ed.)</td>\n",
       "<td>Andrew Tanenbaum</td>\n",
       "<td>informatica</td>\n",
       "</tr>\n",
       "<tr>\n",
       "<td>Cryptografie en ICT</td>\n",
       "<td>Aoufi El Said</td>\n",
       "<td>informatica</td>\n",
       "</tr>\n",
       "</table>"
      ],
      "text/plain": [
       "+----------------------------+-------------------------------+-------------+\n",
       "| TITEL                      | AUTEUR                        | RUBRIEK     |\n",
       "+----------------------------+-------------------------------+-------------+\n",
       "| 1984                       | George Orwell                 | engels      |\n",
       "+----------------------------+-------------------------------+-------------+\n",
       "| A Bend in the River        | Vidiadhar Surajprasad Naipaul | engels      |\n",
       "+----------------------------+-------------------------------+-------------+\n",
       "| A Catcher in the Rye       | Salinger                      | engels      |\n",
       "+----------------------------+-------------------------------+-------------+\n",
       "| A Christmas Carol          | Charles Dickens               | engels      |\n",
       "+----------------------------+-------------------------------+-------------+\n",
       "| A Prayer for Owen Meany    | John Irving                   | engels      |\n",
       "+----------------------------+-------------------------------+-------------+\n",
       "| A Son of the Circus        | John Irving                   | engels      |\n",
       "+----------------------------+-------------------------------+-------------+\n",
       "| A tale of two cities       | Charles Dickens               | engels      |\n",
       "+----------------------------+-------------------------------+-------------+\n",
       "| Animal Farm                | George Orwell                 | engels      |\n",
       "+----------------------------+-------------------------------+-------------+\n",
       "| Computernetwerken (2e ed.) | Andrew Tanenbaum              | informatica |\n",
       "+----------------------------+-------------------------------+-------------+\n",
       "| Cryptografie en ICT        | Aoufi El Said                 | informatica |\n",
       "+----------------------------+-------------------------------+-------------+"
      ]
     },
     "execution_count": 13,
     "metadata": {},
     "output_type": "execute_result"
    }
   ],
   "source": [
    "SELECT titel\n",
    "     , IFNULL(voornaam || ' ', '') || IFNULL(tussenvoegsel || ' ', '') || achternaam as AUTEUR\n",
    "     , rubriek\n",
    "FROM boeken\n",
    "     JOIN auteurs ON boeken.autnr = auteurs.auteurnr\n",
    "WHERE rubriek <> \"nederlands\"\n",
    "ORDER BY titel\n",
    "LIMIT 10;"
   ]
  },
  {
   "cell_type": "markdown",
   "id": "b07d4854-1daa-49a8-be9a-c41902a0c0f9",
   "metadata": {},
   "source": [
    ":::{solution-end}\n",
    ":::"
   ]
  },
  {
   "cell_type": "markdown",
   "id": "77ededef-701c-4189-966c-f9dc785a7bbb",
   "metadata": {},
   "source": [
    ":::{solution-start} boeken-rubrieken\n",
    ":::\n",
    "\n",
    "In welke rubrieken worden de boeken ingedeeld? Geef deze in alfabetische volgorde."
   ]
  },
  {
   "cell_type": "code",
   "execution_count": 16,
   "id": "db0d4f29-4b72-44e7-83db-08e1d2046ae1",
   "metadata": {},
   "outputs": [
    {
     "data": {
      "text/html": [
       "<table>\n",
       "<tr>\n",
       "<th>RUBRIEK</th>\n",
       "</tr>\n",
       "<tr>\n",
       "<td>biologie</td>\n",
       "</tr>\n",
       "<tr>\n",
       "<td>duits</td>\n",
       "</tr>\n",
       "<tr>\n",
       "<td>engels</td>\n",
       "</tr>\n",
       "<tr>\n",
       "<td>frans</td>\n",
       "</tr>\n",
       "<tr>\n",
       "<td>geschiedenis</td>\n",
       "</tr>\n",
       "<tr>\n",
       "<td>informatica</td>\n",
       "</tr>\n",
       "<tr>\n",
       "<td>maatschappijleer</td>\n",
       "</tr>\n",
       "<tr>\n",
       "<td>natuurkunde</td>\n",
       "</tr>\n",
       "<tr>\n",
       "<td>nederlands</td>\n",
       "</tr>\n",
       "<tr>\n",
       "<td>scheikunde</td>\n",
       "</tr>\n",
       "</table>"
      ],
      "text/plain": [
       "+------------------+\n",
       "| RUBRIEK          |\n",
       "+------------------+\n",
       "| biologie         |\n",
       "+------------------+\n",
       "| duits            |\n",
       "+------------------+\n",
       "| engels           |\n",
       "+------------------+\n",
       "| frans            |\n",
       "+------------------+\n",
       "| geschiedenis     |\n",
       "+------------------+\n",
       "| informatica      |\n",
       "+------------------+\n",
       "| maatschappijleer |\n",
       "+------------------+\n",
       "| natuurkunde      |\n",
       "+------------------+\n",
       "| nederlands       |\n",
       "+------------------+\n",
       "| scheikunde       |\n",
       "+------------------+"
      ]
     },
     "execution_count": 16,
     "metadata": {},
     "output_type": "execute_result"
    }
   ],
   "source": [
    "SELECT DISTINCT rubriek\n",
    "FROM boeken\n",
    "ORDER BY rubriek;"
   ]
  },
  {
   "cell_type": "markdown",
   "id": "cff87caa-8303-45d7-9032-7b269dd107dc",
   "metadata": {},
   "source": [
    ":::{solution-end}\n",
    ":::"
   ]
  },
  {
   "cell_type": "markdown",
   "id": "771a613e-751f-4ba3-90a2-5972b9bc77b5",
   "metadata": {},
   "source": [
    ":::{solution-start} boeken-gerard-reve\n",
    ":::\n",
    "\n",
    "Welke boeken van Gerard Reve zijn er in de bibliotheek? (Geef titel, jaar van publicatie, en naam van de auteur.)"
   ]
  },
  {
   "cell_type": "code",
   "execution_count": 19,
   "id": "05716a0f-e2fa-4d91-8bb2-820b101df65c",
   "metadata": {},
   "outputs": [
    {
     "data": {
      "text/html": [
       "<table>\n",
       "<tr>\n",
       "<th>TITEL</th>\n",
       "<th>JAAR</th>\n",
       "<th>AUTEUR</th>\n",
       "</tr>\n",
       "<tr>\n",
       "<td>De Avonden</td>\n",
       "<td>1947</td>\n",
       "<td>Gerard Reve</td>\n",
       "</tr>\n",
       "<tr>\n",
       "<td>Op weg naar het einde</td>\n",
       "<td>1963</td>\n",
       "<td>Gerard Reve</td>\n",
       "</tr>\n",
       "<tr>\n",
       "<td>De vierde man</td>\n",
       "<td>1981</td>\n",
       "<td>Gerard Reve</td>\n",
       "</tr>\n",
       "</table>"
      ],
      "text/plain": [
       "+-----------------------+------+-------------+\n",
       "| TITEL                 | JAAR | AUTEUR      |\n",
       "+-----------------------+------+-------------+\n",
       "| De Avonden            | 1947 | Gerard Reve |\n",
       "+-----------------------+------+-------------+\n",
       "| Op weg naar het einde | 1963 | Gerard Reve |\n",
       "+-----------------------+------+-------------+\n",
       "| De vierde man         | 1981 | Gerard Reve |\n",
       "+-----------------------+------+-------------+"
      ]
     },
     "execution_count": 19,
     "metadata": {},
     "output_type": "execute_result"
    }
   ],
   "source": [
    "SELECT titel\n",
    "     , pub_jaar as JAAR\n",
    "     , IFNULL(voornaam || ' ', '') || IFNULL(tussenvoegsel || ' ', '') || achternaam as AUTEUR\n",
    "FROM boeken\n",
    "     JOIN auteurs ON boeken.autnr = auteurs.auteurnr\n",
    "WHERE auteurs.voornaam = \"Gerard\" and auteurs.achternaam = \"Reve\";"
   ]
  },
  {
   "cell_type": "markdown",
   "id": "c9d1bb71-d391-4fea-b8e9-8630446127d8",
   "metadata": {},
   "source": [
    ":::{solution-end}\n",
    ":::"
   ]
  },
  {
   "cell_type": "markdown",
   "id": "cf586ba2-f69a-46ea-b3ba-1bcebbf15a02",
   "metadata": {},
   "source": [
    ":::{solution-start} leerlingen-boete\n",
    ":::\n",
    "\n",
    "Welke leerlingen hebben een boete van meer dan 3,50 Euro gehad? (Geef voornaam, tussenvoegsel, achternaam, en boete; geef alleen de eerste 10, op alfabetische volgorde van achternaam.)"
   ]
  },
  {
   "cell_type": "code",
   "execution_count": 23,
   "id": "e3212a0c-b1a0-4445-9785-ab97e4a3eefb",
   "metadata": {},
   "outputs": [
    {
     "data": {
      "text/html": [
       "<table>\n",
       "<tr>\n",
       "<th>VOORNAAM</th>\n",
       "<th>TUSSENVOEGSEL</th>\n",
       "<th>ACHTERNAAM</th>\n",
       "<th>BOETE</th>\n",
       "</tr>\n",
       "<tr>\n",
       "<td>Sahila</td>\n",
       "<td></td>\n",
       "<td>Abdoulai</td>\n",
       "<td>4.0</td>\n",
       "</tr>\n",
       "<tr>\n",
       "<td>Sahila</td>\n",
       "<td></td>\n",
       "<td>Abdoulai</td>\n",
       "<td>4.0</td>\n",
       "</tr>\n",
       "<tr>\n",
       "<td>Fatma</td>\n",
       "<td></td>\n",
       "<td>Abdulkadir</td>\n",
       "<td>4.0</td>\n",
       "</tr>\n",
       "<tr>\n",
       "<td>Glenn</td>\n",
       "<td></td>\n",
       "<td>Baarman</td>\n",
       "<td>4.0</td>\n",
       "</tr>\n",
       "<tr>\n",
       "<td>John</td>\n",
       "<td></td>\n",
       "<td>Bartemans</td>\n",
       "<td>4.0</td>\n",
       "</tr>\n",
       "<tr>\n",
       "<td>John</td>\n",
       "<td></td>\n",
       "<td>Bartemans</td>\n",
       "<td>4.0</td>\n",
       "</tr>\n",
       "<tr>\n",
       "<td>Jan</td>\n",
       "<td></td>\n",
       "<td>Bedeski</td>\n",
       "<td>4.0</td>\n",
       "</tr>\n",
       "<tr>\n",
       "<td>Jan</td>\n",
       "<td></td>\n",
       "<td>Bedeski</td>\n",
       "<td>4.0</td>\n",
       "</tr>\n",
       "<tr>\n",
       "<td>Marco</td>\n",
       "<td>van</td>\n",
       "<td>Bemmel</td>\n",
       "<td>3.8</td>\n",
       "</tr>\n",
       "<tr>\n",
       "<td>Mandy</td>\n",
       "<td></td>\n",
       "<td>Bielderman</td>\n",
       "<td>4.0</td>\n",
       "</tr>\n",
       "</table>"
      ],
      "text/plain": [
       "+----------+---------------+------------+-------+\n",
       "| VOORNAAM | TUSSENVOEGSEL | ACHTERNAAM | BOETE |\n",
       "+----------+---------------+------------+-------+\n",
       "| Sahila   |               | Abdoulai   | 4.0   |\n",
       "+----------+---------------+------------+-------+\n",
       "| Sahila   |               | Abdoulai   | 4.0   |\n",
       "+----------+---------------+------------+-------+\n",
       "| Fatma    |               | Abdulkadir | 4.0   |\n",
       "+----------+---------------+------------+-------+\n",
       "| Glenn    |               | Baarman    | 4.0   |\n",
       "+----------+---------------+------------+-------+\n",
       "| John     |               | Bartemans  | 4.0   |\n",
       "+----------+---------------+------------+-------+\n",
       "| John     |               | Bartemans  | 4.0   |\n",
       "+----------+---------------+------------+-------+\n",
       "| Jan      |               | Bedeski    | 4.0   |\n",
       "+----------+---------------+------------+-------+\n",
       "| Jan      |               | Bedeski    | 4.0   |\n",
       "+----------+---------------+------------+-------+\n",
       "| Marco    | van           | Bemmel     | 3.8   |\n",
       "+----------+---------------+------------+-------+\n",
       "| Mandy    |               | Bielderman | 4.0   |\n",
       "+----------+---------------+------------+-------+"
      ]
     },
     "execution_count": 23,
     "metadata": {},
     "output_type": "execute_result"
    }
   ],
   "source": [
    "SELECT voornaam, tussenvoegsel, achternaam, boete\n",
    "FROM leerlingen\n",
    "     JOIN uitleningen ON leerlingen.llnr = uitleningen.llnr\n",
    "WHERE boete > 3.50\n",
    "ORDER BY achternaam\n",
    "LIMIT 10;"
   ]
  },
  {
   "cell_type": "markdown",
   "id": "2156e82c-a6b7-4770-9271-7ed6166e5198",
   "metadata": {},
   "source": [
    ":::{solution-end}\n",
    ":::"
   ]
  },
  {
   "cell_type": "markdown",
   "id": "007a8431-a6f3-4535-9fcb-85aa31121c06",
   "metadata": {},
   "source": [
    ":::{solution-start} totaal-boete\n",
    ":::\n",
    "\n",
    "Maak een top-5 van de leerlingen die *in totaal* het grootste bedrag aan boetes betaald hebben."
   ]
  },
  {
   "cell_type": "code",
   "execution_count": 30,
   "id": "1b7571df-3ad9-4c27-a830-76617676ef13",
   "metadata": {},
   "outputs": [
    {
     "data": {
      "text/html": [
       "<table>\n",
       "<tr>\n",
       "<th>VOORNAAM</th>\n",
       "<th>TUSSENVOEGSEL</th>\n",
       "<th>ACHTERNAAM</th>\n",
       "<th>Totaal_boete</th>\n",
       "</tr>\n",
       "<tr>\n",
       "<td>Saskia</td>\n",
       "<td></td>\n",
       "<td>Onk</td>\n",
       "<td>66.2</td>\n",
       "</tr>\n",
       "<tr>\n",
       "<td>Bram</td>\n",
       "<td></td>\n",
       "<td>Polman</td>\n",
       "<td>55.4</td>\n",
       "</tr>\n",
       "<tr>\n",
       "<td>Wilma</td>\n",
       "<td></td>\n",
       "<td>Elkema</td>\n",
       "<td>37.2</td>\n",
       "</tr>\n",
       "<tr>\n",
       "<td>Fatma</td>\n",
       "<td></td>\n",
       "<td>Abdulkadir</td>\n",
       "<td>31.6</td>\n",
       "</tr>\n",
       "<tr>\n",
       "<td>Mark</td>\n",
       "<td></td>\n",
       "<td>Pullman</td>\n",
       "<td>29.0</td>\n",
       "</tr>\n",
       "</table>"
      ],
      "text/plain": [
       "+----------+---------------+------------+--------------+\n",
       "| VOORNAAM | TUSSENVOEGSEL | ACHTERNAAM | Totaal_boete |\n",
       "+----------+---------------+------------+--------------+\n",
       "| Saskia   |               | Onk        | 66.2         |\n",
       "+----------+---------------+------------+--------------+\n",
       "| Bram     |               | Polman     | 55.4         |\n",
       "+----------+---------------+------------+--------------+\n",
       "| Wilma    |               | Elkema     | 37.2         |\n",
       "+----------+---------------+------------+--------------+\n",
       "| Fatma    |               | Abdulkadir | 31.6         |\n",
       "+----------+---------------+------------+--------------+\n",
       "| Mark     |               | Pullman    | 29.0         |\n",
       "+----------+---------------+------------+--------------+"
      ]
     },
     "execution_count": 30,
     "metadata": {},
     "output_type": "execute_result"
    }
   ],
   "source": [
    "SELECT voornaam, tussenvoegsel, achternaam, sum(boete) as Totaal_boete\n",
    "FROM leerlingen\n",
    "     JOIN uitleningen ON leerlingen.llnr = uitleningen.llnr\n",
    "GROUP BY voornaam, tussenvoegsel, achternaam\n",
    "ORDER BY totaal_boete DESC\n",
    "LIMIT 5;"
   ]
  },
  {
   "cell_type": "markdown",
   "id": "ad805a72-4f1c-4512-86b6-b4c55ebafea3",
   "metadata": {},
   "source": [
    ":::{solution-end}\n",
    ":::"
   ]
  }
 ],
 "metadata": {
  "kernelspec": {
   "display_name": "xsqlite",
   "language": "sqlite",
   "name": "xsqlite"
  },
  "language_info": {
   "codemirror_mode": "sql",
   "file_extension": "",
   "mimetype": "",
   "name": "sql",
   "version": "3.33.0"
  }
 },
 "nbformat": 4,
 "nbformat_minor": 5
}
