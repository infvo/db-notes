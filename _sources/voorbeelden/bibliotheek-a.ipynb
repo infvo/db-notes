{
 "cells": [
  {
   "cell_type": "markdown",
   "id": "9816356a-2910-48fb-a6c5-ba0ef10b2c03",
   "metadata": {},
   "source": [
    "# Bibliotheek-opdrachten(1)"
   ]
  },
  {
   "cell_type": "markdown",
   "id": "214f538d-6d5a-46a2-8179-223043569cf1",
   "metadata": {},
   "source": [
    "Voor deze opdrachten gebruik je de bibliotheek-database.\n",
    "Je moet eerst deze database laden in SQLite."
   ]
  },
  {
   "cell_type": "code",
   "execution_count": null,
   "id": "394a248a-5cf3-41c7-a1a2-c231e3da24ea",
   "metadata": {},
   "outputs": [],
   "source": [
    "%LOAD data/bibliotheek.db"
   ]
  },
  {
   "cell_type": "markdown",
   "id": "e739d602-33e8-4b90-a231-304ab21003e9",
   "metadata": {},
   "source": [
    ":::{exercise}\n",
    ":label: recente-schrijvers\n",
    "\n",
    "Welke schrijvers zijn geboren na 1960? Geef de voornaam, tussenvoegsel, achternaam, en geboortejaar.\n",
    "\n",
    "* variatie: maak één kolom, `NAAM`, met de volledige naam van de schrijver, in plaats van de drie eerste kolommen. \n",
    "    * Hint: zie {ref}`string_concatenatie` en {ref}`rekenen-met-null`\n",
    ":::"
   ]
  },
  {
   "cell_type": "code",
   "execution_count": null,
   "id": "3b09c3b4-9b64-4daa-94bb-77587abf0643",
   "metadata": {},
   "outputs": [],
   "source": [
    "SELECT ..."
   ]
  },
  {
   "cell_type": "markdown",
   "id": "6b1693ba-f59a-4243-b90c-b2a162635e09",
   "metadata": {},
   "source": [
    ":::{exercise}\n",
    ":label: niet-nederlandse-boeken\n",
    "\n",
    "Welke boeken vallen niet in de rubriek \"nederlands\"? Geef titel en rubriek van de eerste 10 boeken, in alfabetische volgorde.\n",
    "\n",
    "* Variatie: geef titel, auteur (als 1 string, met kolomnaam: AUTEUR), en rubriek\n",
    ":::"
   ]
  },
  {
   "cell_type": "code",
   "execution_count": null,
   "id": "7297afa1-5f89-415f-aaf0-be5c38f098ca",
   "metadata": {},
   "outputs": [],
   "source": [
    "SELECT ..."
   ]
  },
  {
   "cell_type": "markdown",
   "id": "187b6173-18fa-4294-a117-bc24d6f358e9",
   "metadata": {},
   "source": [
    ":::{exercise}\n",
    ":label: boeken-rubrieken\n",
    "\n",
    "In welke (unieke) rubrieken worden de boeken ingedeeld? Geef deze in alfabetische volgorde.\n",
    ":::"
   ]
  },
  {
   "cell_type": "code",
   "execution_count": null,
   "id": "04cb5ef1-04df-4410-b760-6c869ef168ee",
   "metadata": {},
   "outputs": [],
   "source": [
    "SELECT ..."
   ]
  },
  {
   "cell_type": "markdown",
   "id": "410da019-4be3-4c50-b6d9-ba4312f12a74",
   "metadata": {},
   "source": [
    ":::{exercise}\n",
    ":label: boeken-gerard-reve\n",
    "\n",
    "Welke boeken van Gerard Reve zijn er in de bibliotheek?\n",
    "(Geef titel, jaar van publicatie, en naam van de auteur.)\n",
    ":::\n"
   ]
  },
  {
   "cell_type": "code",
   "execution_count": null,
   "id": "10afc59f-c63a-4ea6-b9d9-456cba6f8e4a",
   "metadata": {},
   "outputs": [],
   "source": [
    "SELECT ..."
   ]
  },
  {
   "cell_type": "markdown",
   "id": "08b96b5f-c8d0-4263-89aa-e43632cb2813",
   "metadata": {},
   "source": [
    ":::{exercise}\n",
    ":label: leerlingen-boete\n",
    "\n",
    "Welke leerlingen hebben een boete van meer dan 3,50 euro gehad?\n",
    "(Geef voornaam, tussenvoegsel, achternaam, en boete; geef alleen de eerste 10, op alfabetische volgorde van achternaam.)\n",
    "\n",
    "(Kun je dit met een enkele query beantwoorden? Lijkt mij niet... Zeker niet als je de namen van de leerlingen wilt vermelden.) Bovendien moet je iets specifieker zijn: een boete voor een enkele uitlening.\n",
    "\n",
    "(Ik zou het bedrag wat groter nemen, dat maakt het resultaat wat overzichtelijker. Maar dan is de lijst nog steeds erg lang!)\n",
    "\n",
    "* Variatie: wat is de maximale boete die uitgedeeld is? welke leerlingen hebben deze boete gehad?\n",
    ":::"
   ]
  },
  {
   "cell_type": "code",
   "execution_count": null,
   "id": "31530484-11b9-4593-8ba0-21db0c4685b8",
   "metadata": {},
   "outputs": [],
   "source": [
    "SELECT ..."
   ]
  },
  {
   "cell_type": "markdown",
   "id": "af45048b-67d8-4a5b-b3e5-56f3bad7cde4",
   "metadata": {},
   "source": [
    ":::{exercise}\n",
    ":label: totaal-boete\n",
    "Maak een top-5 van de leerlingen die *in totaal* het grootste bedrag aan boetes betaald hebben.\n",
    ":::"
   ]
  },
  {
   "cell_type": "code",
   "execution_count": null,
   "id": "31fbaac1-63be-4bff-ba41-af4341370426",
   "metadata": {},
   "outputs": [],
   "source": [
    "SELECT ..."
   ]
  },
  {
   "cell_type": "markdown",
   "id": "50d2b590-1cac-4f24-8142-dbdb97abc4cd",
   "metadata": {},
   "source": [
    "## Oefenen\n",
    "\n",
    "Oefen hieronder met je eigen queries"
   ]
  },
  {
   "cell_type": "code",
   "execution_count": null,
   "id": "09682c78-a883-408c-bf61-f8baa7858973",
   "metadata": {},
   "outputs": [],
   "source": [
    "SELECT ..."
   ]
  }
 ],
 "metadata": {
  "kernelspec": {
   "display_name": "xsqlite",
   "language": "sqlite",
   "name": "xsqlite"
  },
  "language_info": {
   "codemirror_mode": "sql",
   "file_extension": "",
   "mimetype": "",
   "name": "sql",
   "version": "3.33.0"
  }
 },
 "nbformat": 4,
 "nbformat_minor": 5
}
